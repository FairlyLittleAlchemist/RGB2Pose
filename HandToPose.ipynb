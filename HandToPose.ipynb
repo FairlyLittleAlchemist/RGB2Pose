{
  "cells": [
    {
      "cell_type": "markdown",
      "metadata": {
        "id": "h2q27gKz1H20"
      },
      "source": [
        "##### Copyright 2023 The MediaPipe Authors. All Rights Reserved."
      ]
    },
    {
      "cell_type": "markdown",
      "metadata": {
        "id": "L_cQX8dWu4Dv"
      },
      "source": [
        "# Hand Landmarks Detection with MediaPipe Tasks\n",
        "\n",
        "This notebook shows you how to use MediaPipe Tasks Python API to detect hand landmarks from images."
      ]
    },
    {
      "cell_type": "markdown",
      "metadata": {
        "id": "Iy4r2_ePylIa"
      },
      "source": [
        "## Running inference and visualizing the results\n",
        "\n",
        "Here are the steps to run hand landmark detection using MediaPipe."
      ]
    },
    {
      "cell_type": "code",
      "execution_count": null,
      "metadata": {},
      "outputs": [],
      "source": [
        "!pip install -q mediapipe\n",
        "!wget -q https://storage.googleapis.com/mediapipe-models/hand_landmarker/hand_landmarker/float16/1/hand_landmarker.task"
      ]
    },
    {
      "cell_type": "code",
      "execution_count": 17,
      "metadata": {
        "id": "_JVO3rvPD4RN"
      },
      "outputs": [],
      "source": [
        "import mediapipe as mp\n",
        "from mediapipe.tasks import python\n",
        "from mediapipe.tasks.python import vision\n",
        "import matplotlib.pyplot as plt\n",
        "import json\n",
        "import os\n",
        "def Extart(path):\n",
        "    base_options = python.BaseOptions(model_asset_path='Model/hand_landmarker.task')\n",
        "    options = vision.HandLandmarkerOptions(base_options=base_options,\n",
        "                                           num_hands=2)\n",
        "    detector = vision.HandLandmarker.create_from_options(options)\n",
        "\n",
        "    image = mp.Image.create_from_file(path)\n",
        "\n",
        "    detection_result = detector.detect(image)\n",
        "    \n",
        "    res= []\n",
        "    for i in detection_result.hand_world_landmarks[0]:\n",
        "        res.append([i.x, i.y, i.z])\n",
        "    # Create the directory structure if it doesn't exist\n",
        "    os.makedirs(os.path.dirname(\"Json\"+path), exist_ok=True)\n",
        "    Write the JSON file\n",
        "    with open(\"Json\"+path.split(\".\")[0]+\".json\", 'w') as file:\n",
        "        json.dump(res, file)\n"
      ]
    },
    {
      "cell_type": "markdown",
      "metadata": {},
      "source": [
        "Exporting Data"
      ]
    },
    {
      "cell_type": "code",
      "execution_count": null,
      "metadata": {},
      "outputs": [],
      "source": [
        "import glob\n",
        "Paths = []\n",
        "for name in glob.glob('Dataset/*/*'): \n",
        "    Paths.append(name) \n",
        "for path in Paths : \n",
        "    Extart(path)"
      ]
    }
  ],
  "metadata": {
    "colab": {
      "collapsed_sections": [
        "h2q27gKz1H20"
      ],
      "provenance": []
    },
    "kernelspec": {
      "display_name": "Python 3 (ipykernel)",
      "language": "python",
      "name": "python3"
    },
    "language_info": {
      "codemirror_mode": {
        "name": "ipython",
        "version": 3
      },
      "file_extension": ".py",
      "mimetype": "text/x-python",
      "name": "python",
      "nbconvert_exporter": "python",
      "pygments_lexer": "ipython3",
      "version": "3.10.12"
    }
  },
  "nbformat": 4,
  "nbformat_minor": 0
}
